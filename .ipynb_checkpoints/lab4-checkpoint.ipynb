{
 "cells": [
  {
   "cell_type": "code",
   "execution_count": 1,
   "metadata": {},
   "outputs": [
    {
     "data": {
      "text/html": [
       "<div>\n",
       "<style>\n",
       "    .dataframe thead tr:only-child th {\n",
       "        text-align: right;\n",
       "    }\n",
       "\n",
       "    .dataframe thead th {\n",
       "        text-align: left;\n",
       "    }\n",
       "\n",
       "    .dataframe tbody tr th {\n",
       "        vertical-align: top;\n",
       "    }\n",
       "</style>\n",
       "<table border=\"1\" class=\"dataframe\">\n",
       "  <thead>\n",
       "    <tr style=\"text-align: right;\">\n",
       "      <th></th>\n",
       "      <th>client_id</th>\n",
       "      <th>datetime</th>\n",
       "      <th>code</th>\n",
       "      <th>type</th>\n",
       "      <th>sum</th>\n",
       "      <th>source_id</th>\n",
       "      <th>type_description</th>\n",
       "      <th>code_description</th>\n",
       "      <th>status</th>\n",
       "    </tr>\n",
       "  </thead>\n",
       "  <tbody>\n",
       "    <tr>\n",
       "      <th>0</th>\n",
       "      <td>96372458</td>\n",
       "      <td>421 06:33:15</td>\n",
       "      <td>6011</td>\n",
       "      <td>2010</td>\n",
       "      <td>-561478.94</td>\n",
       "      <td>256572</td>\n",
       "      <td>Выдача наличных в АТМ Сбербанк России</td>\n",
       "      <td>Финансовые институты — снятие наличности автом...</td>\n",
       "      <td>0</td>\n",
       "    </tr>\n",
       "    <tr>\n",
       "      <th>1</th>\n",
       "      <td>96372458</td>\n",
       "      <td>68 02:04:11</td>\n",
       "      <td>6011</td>\n",
       "      <td>2010</td>\n",
       "      <td>-426724.0</td>\n",
       "      <td>NaN</td>\n",
       "      <td>Выдача наличных в АТМ Сбербанк России</td>\n",
       "      <td>Финансовые институты — снятие наличности автом...</td>\n",
       "      <td>0</td>\n",
       "    </tr>\n",
       "    <tr>\n",
       "      <th>2</th>\n",
       "      <td>96372458</td>\n",
       "      <td>433 06:45:32</td>\n",
       "      <td>6011</td>\n",
       "      <td>2010</td>\n",
       "      <td>-112295.79</td>\n",
       "      <td>256566</td>\n",
       "      <td>Выдача наличных в АТМ Сбербанк России</td>\n",
       "      <td>Финансовые институты — снятие наличности автом...</td>\n",
       "      <td>0</td>\n",
       "    </tr>\n",
       "    <tr>\n",
       "      <th>3</th>\n",
       "      <td>96372458</td>\n",
       "      <td>314 01:18:44</td>\n",
       "      <td>6011</td>\n",
       "      <td>2010</td>\n",
       "      <td>-1122957.89</td>\n",
       "      <td>256566</td>\n",
       "      <td>Выдача наличных в АТМ Сбербанк России</td>\n",
       "      <td>Финансовые институты — снятие наличности автом...</td>\n",
       "      <td>0</td>\n",
       "    </tr>\n",
       "    <tr>\n",
       "      <th>4</th>\n",
       "      <td>96372458</td>\n",
       "      <td>350 01:09:16</td>\n",
       "      <td>6011</td>\n",
       "      <td>2010</td>\n",
       "      <td>-1100498.73</td>\n",
       "      <td>256566</td>\n",
       "      <td>Выдача наличных в АТМ Сбербанк России</td>\n",
       "      <td>Финансовые институты — снятие наличности автом...</td>\n",
       "      <td>0</td>\n",
       "    </tr>\n",
       "    <tr>\n",
       "      <th>5</th>\n",
       "      <td>96372458</td>\n",
       "      <td>445 07:35:23</td>\n",
       "      <td>6011</td>\n",
       "      <td>2010</td>\n",
       "      <td>-494101.47</td>\n",
       "      <td>256566</td>\n",
       "      <td>Выдача наличных в АТМ Сбербанк России</td>\n",
       "      <td>Финансовые институты — снятие наличности автом...</td>\n",
       "      <td>0</td>\n",
       "    </tr>\n",
       "    <tr>\n",
       "      <th>6</th>\n",
       "      <td>96372458</td>\n",
       "      <td>396 07:48:53</td>\n",
       "      <td>6011</td>\n",
       "      <td>2010</td>\n",
       "      <td>-101066.21</td>\n",
       "      <td>256566</td>\n",
       "      <td>Выдача наличных в АТМ Сбербанк России</td>\n",
       "      <td>Финансовые институты — снятие наличности автом...</td>\n",
       "      <td>0</td>\n",
       "    </tr>\n",
       "    <tr>\n",
       "      <th>7</th>\n",
       "      <td>96372458</td>\n",
       "      <td>430 06:29:50</td>\n",
       "      <td>6011</td>\n",
       "      <td>2010</td>\n",
       "      <td>-224591.58</td>\n",
       "      <td>256566</td>\n",
       "      <td>Выдача наличных в АТМ Сбербанк России</td>\n",
       "      <td>Финансовые институты — снятие наличности автом...</td>\n",
       "      <td>0</td>\n",
       "    </tr>\n",
       "    <tr>\n",
       "      <th>8</th>\n",
       "      <td>96372458</td>\n",
       "      <td>25 06:58:51</td>\n",
       "      <td>6011</td>\n",
       "      <td>2010</td>\n",
       "      <td>-78607.05</td>\n",
       "      <td>NaN</td>\n",
       "      <td>Выдача наличных в АТМ Сбербанк России</td>\n",
       "      <td>Финансовые институты — снятие наличности автом...</td>\n",
       "      <td>0</td>\n",
       "    </tr>\n",
       "    <tr>\n",
       "      <th>9</th>\n",
       "      <td>96372458</td>\n",
       "      <td>421 01:56:12</td>\n",
       "      <td>6011</td>\n",
       "      <td>2010</td>\n",
       "      <td>-314428.21</td>\n",
       "      <td>581606</td>\n",
       "      <td>Выдача наличных в АТМ Сбербанк России</td>\n",
       "      <td>Финансовые институты — снятие наличности автом...</td>\n",
       "      <td>0</td>\n",
       "    </tr>\n",
       "  </tbody>\n",
       "</table>\n",
       "</div>"
      ],
      "text/plain": [
       "   client_id      datetime  code  type          sum source_id  \\\n",
       "0   96372458  421 06:33:15  6011  2010   -561478.94    256572   \n",
       "1   96372458   68 02:04:11  6011  2010    -426724.0       NaN   \n",
       "2   96372458  433 06:45:32  6011  2010   -112295.79    256566   \n",
       "3   96372458  314 01:18:44  6011  2010  -1122957.89    256566   \n",
       "4   96372458  350 01:09:16  6011  2010  -1100498.73    256566   \n",
       "5   96372458  445 07:35:23  6011  2010   -494101.47    256566   \n",
       "6   96372458  396 07:48:53  6011  2010   -101066.21    256566   \n",
       "7   96372458  430 06:29:50  6011  2010   -224591.58    256566   \n",
       "8   96372458   25 06:58:51  6011  2010    -78607.05       NaN   \n",
       "9   96372458  421 01:56:12  6011  2010   -314428.21    581606   \n",
       "\n",
       "                        type_description  \\\n",
       "0  Выдача наличных в АТМ Сбербанк России   \n",
       "1  Выдача наличных в АТМ Сбербанк России   \n",
       "2  Выдача наличных в АТМ Сбербанк России   \n",
       "3  Выдача наличных в АТМ Сбербанк России   \n",
       "4  Выдача наличных в АТМ Сбербанк России   \n",
       "5  Выдача наличных в АТМ Сбербанк России   \n",
       "6  Выдача наличных в АТМ Сбербанк России   \n",
       "7  Выдача наличных в АТМ Сбербанк России   \n",
       "8  Выдача наличных в АТМ Сбербанк России   \n",
       "9  Выдача наличных в АТМ Сбербанк России   \n",
       "\n",
       "                                    code_description  status  \n",
       "0  Финансовые институты — снятие наличности автом...       0  \n",
       "1  Финансовые институты — снятие наличности автом...       0  \n",
       "2  Финансовые институты — снятие наличности автом...       0  \n",
       "3  Финансовые институты — снятие наличности автом...       0  \n",
       "4  Финансовые институты — снятие наличности автом...       0  \n",
       "5  Финансовые институты — снятие наличности автом...       0  \n",
       "6  Финансовые институты — снятие наличности автом...       0  \n",
       "7  Финансовые институты — снятие наличности автом...       0  \n",
       "8  Финансовые институты — снятие наличности автом...       0  \n",
       "9  Финансовые институты — снятие наличности автом...       0  "
      ]
     },
     "execution_count": 1,
     "metadata": {},
     "output_type": "execute_result"
    }
   ],
   "source": [
    "import pandas as pd\n",
    "import numpy as np\n",
    "import matplotlib.pyplot as plt\n",
    "\n",
    "operations = pd.read_csv('operations.csv', sep=',', decimal=',')\n",
    "dataset = pd.read_csv('dataset.csv', sep=',', decimal=',')\n",
    "types = pd.read_csv('types.csv', sep=';', decimal=',')\n",
    "codes = pd.read_csv('codes.csv',sep=';')\n",
    "newset = pd.merge(operations, types, on = 'type')\n",
    "allsets = pd.merge(newset, codes, on = 'code')\n",
    "idsets= pd.merge(allsets,dataset,on='client_id')\n",
    "idsets[:10]"
   ]
  },
  {
   "cell_type": "code",
   "execution_count": 3,
   "metadata": {},
   "outputs": [
    {
     "ename": "NameError",
     "evalue": "name 'dataMerged3' is not defined",
     "output_type": "error",
     "traceback": [
      "\u001b[1;31m---------------------------------------------------------------------------\u001b[0m",
      "\u001b[1;31mNameError\u001b[0m                                 Traceback (most recent call last)",
      "\u001b[1;32m<ipython-input-3-10d4f4a4867a>\u001b[0m in \u001b[0;36m<module>\u001b[1;34m()\u001b[0m\n\u001b[1;32m----> 1\u001b[1;33m \u001b[0mdataMerged3\u001b[0m\u001b[1;33m[\u001b[0m\u001b[0mdataMerged3\u001b[0m\u001b[1;33m[\u001b[0m\u001b[1;34m'client_id'\u001b[0m\u001b[1;33m]\u001b[0m\u001b[1;33m>\u001b[0m\u001b[1;36m61500000\u001b[0m\u001b[1;33m]\u001b[0m\u001b[1;33m[\u001b[0m\u001b[0mdataMerged3\u001b[0m\u001b[1;33m[\u001b[0m\u001b[1;34m'client_id'\u001b[0m\u001b[1;33m]\u001b[0m\u001b[1;33m<\u001b[0m\u001b[1;36m81500000\u001b[0m\u001b[1;33m]\u001b[0m\u001b[1;33m[\u001b[0m\u001b[1;34m'client_id'\u001b[0m\u001b[1;33m]\u001b[0m\u001b[1;33m.\u001b[0m\u001b[0mhist\u001b[0m\u001b[1;33m(\u001b[0m\u001b[0mbins\u001b[0m\u001b[1;33m=\u001b[0m\u001b[1;36m50\u001b[0m\u001b[1;33m,\u001b[0m\u001b[0mcolor\u001b[0m \u001b[1;33m=\u001b[0m \u001b[1;34m'teal'\u001b[0m\u001b[1;33m)\u001b[0m\u001b[1;33m\u001b[0m\u001b[0m\n\u001b[0m\u001b[0;32m      2\u001b[0m \u001b[0mplt\u001b[0m\u001b[1;33m.\u001b[0m\u001b[0mshow\u001b[0m\u001b[1;33m(\u001b[0m\u001b[1;33m)\u001b[0m\u001b[1;33m\u001b[0m\u001b[0m\n",
      "\u001b[1;31mNameError\u001b[0m: name 'dataMerged3' is not defined"
     ]
    }
   ],
   "source": [
    "\n",
    "dataMerged3[dataMerged3['client_id']>61500000][dataMerged3['client_id']<81500000]['client_id'].hist(bins=50,color = 'teal')\n",
    "plt.show()"
   ]
  },
  {
   "cell_type": "code",
   "execution_count": 3,
   "metadata": {},
   "outputs": [
    {
     "ename": "SyntaxError",
     "evalue": "invalid syntax (<ipython-input-3-f18b9cdc1513>, line 3)",
     "output_type": "error",
     "traceback": [
      "\u001b[1;36m  File \u001b[1;32m\"<ipython-input-3-f18b9cdc1513>\"\u001b[1;36m, line \u001b[1;32m3\u001b[0m\n\u001b[1;33m    plt.show()\u001b[0m\n\u001b[1;37m      ^\u001b[0m\n\u001b[1;31mSyntaxError\u001b[0m\u001b[1;31m:\u001b[0m invalid syntax\n"
     ]
    }
   ],
   "source": [
    "import matplotlib.pyplot as plt\n",
    "dataMerged3[dataMerged3['sum'].hist(bins=50,color = 'red')\n",
    "plt.show()"
   ]
  },
  {
   "cell_type": "code",
   "execution_count": 4,
   "metadata": {},
   "outputs": [
    {
     "ename": "SyntaxError",
     "evalue": "invalid syntax (<ipython-input-4-93a437c6fd4b>, line 4)",
     "output_type": "error",
     "traceback": [
      "\u001b[1;36m  File \u001b[1;32m\"<ipython-input-4-93a437c6fd4b>\"\u001b[1;36m, line \u001b[1;32m4\u001b[0m\n\u001b[1;33m    plt.show()\u001b[0m\n\u001b[1;37m      ^\u001b[0m\n\u001b[1;31mSyntaxError\u001b[0m\u001b[1;31m:\u001b[0m invalid syntax\n"
     ]
    }
   ],
   "source": [
    "\n",
    "import matplotlib.pyplot as plt\n",
    "dataMerged3[dataMerged3['code'].hist(bins=50,color = 'blue')\n",
    "plt.show()"
   ]
  },
  {
   "cell_type": "code",
   "execution_count": 5,
   "metadata": {},
   "outputs": [
    {
     "ename": "SyntaxError",
     "evalue": "invalid syntax (<ipython-input-5-3a18bcf0913f>, line 3)",
     "output_type": "error",
     "traceback": [
      "\u001b[1;36m  File \u001b[1;32m\"<ipython-input-5-3a18bcf0913f>\"\u001b[1;36m, line \u001b[1;32m3\u001b[0m\n\u001b[1;33m    plt.show()\u001b[0m\n\u001b[1;37m      ^\u001b[0m\n\u001b[1;31mSyntaxError\u001b[0m\u001b[1;31m:\u001b[0m invalid syntax\n"
     ]
    }
   ],
   "source": [
    "import matplotlib.pyplot as plt\n",
    "dataMerged3[dataMerged3['type'].hist(bins=50,color = 'green')\n",
    "plt.show()"
   ]
  },
  {
   "cell_type": "code",
   "execution_count": null,
   "metadata": {
    "collapsed": true
   },
   "outputs": [],
   "source": [
    "import matplotlib.pyplot as plt\n",
    "dataMerged3[dataMerged3['status'].hist(bins=50,color = 'yellow')\n",
    "plt.show()"
   ]
  }
 ],
 "metadata": {
  "kernelspec": {
   "display_name": "Python 3",
   "language": "python",
   "name": "python3"
  },
  "language_info": {
   "codemirror_mode": {
    "name": "ipython",
    "version": 3
   },
   "file_extension": ".py",
   "mimetype": "text/x-python",
   "name": "python",
   "nbconvert_exporter": "python",
   "pygments_lexer": "ipython3",
   "version": "3.6.1"
  }
 },
 "nbformat": 4,
 "nbformat_minor": 2
}
