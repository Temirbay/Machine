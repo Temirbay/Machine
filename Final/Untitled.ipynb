{
 "cells": [
  {
   "cell_type": "code",
   "execution_count": 36,
   "metadata": {},
   "outputs": [
    {
     "name": "stdout",
     "output_type": "stream",
     "text": [
      "(array([  2.18492709e+00,   1.28150729e+01,  -8.10329676e-16,\n",
      "        -7.82495361e-17,  -4.36749373e-16]), array([[ -8.49157548e-01,   1.59191863e-01,   1.65012239e-18,\n",
      "         -4.70948550e-17,  -1.23809875e-16],\n",
      "       [  1.43741398e-01,  -2.68694781e-01,   8.17926107e-01,\n",
      "         -2.90557281e-01,   5.45120832e-02],\n",
      "       [  2.15612097e-01,  -4.03042171e-01,  -3.54117555e-01,\n",
      "         -5.94508112e-02,  -7.34345227e-01],\n",
      "       [  2.87482796e-01,  -5.37389562e-01,  -1.05014156e-02,\n",
      "          8.27226874e-01,   6.76575872e-01],\n",
      "       [  3.59353495e-01,  -6.71736952e-01,  -4.53307137e-01,\n",
      "         -4.77218782e-01,   3.25727131e-03]]))\n"
     ]
    }
   ],
   "source": [
    "import numpy as np\n",
    "from numpy import linalg as LA\n",
    "\n",
    "x = [[1, -1, -1, -1, -1],[2, 2, 2, 2, 2],[3, 3, 3, 3, 3],[4, 4, 4, 4, 4],[5, 5, 5, 5, 5]]\n",
    "y = np.array([np.array(xi) for xi in x])\n",
    "v = LA.eig(y)\n",
    "\n",
    "print (v)"
   ]
  },
  {
   "cell_type": "markdown",
   "metadata": {
    "collapsed": true
   },
   "source": [
    "# "
   ]
  },
  {
   "cell_type": "code",
   "execution_count": null,
   "metadata": {
    "collapsed": true
   },
   "outputs": [],
   "source": []
  },
  {
   "cell_type": "code",
   "execution_count": null,
   "metadata": {
    "collapsed": true
   },
   "outputs": [],
   "source": []
  },
  {
   "cell_type": "code",
   "execution_count": null,
   "metadata": {
    "collapsed": true
   },
   "outputs": [],
   "source": []
  }
 ],
 "metadata": {
  "kernelspec": {
   "display_name": "Python 3",
   "language": "python",
   "name": "python3"
  },
  "language_info": {
   "codemirror_mode": {
    "name": "ipython",
    "version": 3
   },
   "file_extension": ".py",
   "mimetype": "text/x-python",
   "name": "python",
   "nbconvert_exporter": "python",
   "pygments_lexer": "ipython3",
   "version": "3.6.1"
  }
 },
 "nbformat": 4,
 "nbformat_minor": 2
}
