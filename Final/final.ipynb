{
 "cells": [
  {
   "cell_type": "code",
   "execution_count": 54,
   "metadata": {
    "scrolled": true
   },
   "outputs": [
    {
     "name": "stdout",
     "output_type": "stream",
     "text": [
      "number of datasets: 50\n",
      "[ 5. +0.00000000e+00j  1. +0.00000000e+00j  6. +0.00000000e+00j\n",
      "  2. +0.00000000e+00j  1. +0.00000000e+00j  1. +0.00000000e+00j\n",
      "  3. +0.00000000e+00j  3. +0.00000000e+00j  5. +0.00000000e+00j\n",
      "  5. +0.00000000e+00j  5. +0.00000000e+00j  4. +0.00000000e+00j\n",
      "  3. +0.00000000e+00j  4. +0.00000000e+00j  4. +0.00000000e+00j\n",
      "  3. +0.00000000e+00j  3. +0.00000000e+00j  1. +0.00000000e+00j\n",
      "  1. +0.00000000e+00j  1. +0.00000000e+00j  1. +0.00000000e+00j\n",
      "  1. +0.00000000e+00j  3. +0.00000000e+00j  3. +0.00000000e+00j\n",
      "  1. +0.00000000e+00j  1. +0.00000000e+00j  4. +0.00000000e+00j\n",
      "  4. +0.00000000e+00j  4. +0.00000000e+00j  4. +0.00000000e+00j\n",
      "  4. +0.00000000e+00j  1. +0.00000000e+00j  1. +0.00000000e+00j\n",
      "  1. +0.00000000e+00j  4. +3.95040367e-16j  4. -3.95040367e-16j\n",
      "  1. +0.00000000e+00j  1. +0.00000000e+00j  1. +0.00000000e+00j\n",
      "  1. +0.00000000e+00j  1. +0.00000000e+00j  1. +0.00000000e+00j\n",
      "  1. +0.00000000e+00j  1. +0.00000000e+00j  1. +0.00000000e+00j\n",
      "  1. +0.00000000e+00j  1. +0.00000000e+00j  1. +0.00000000e+00j\n",
      "  1. +0.00000000e+00j  1. +0.00000000e+00j]\n"
     ]
    },
    {
     "name": "stderr",
     "output_type": "stream",
     "text": [
      "C:\\Users\\Miras\\Anaconda3\\lib\\site-packages\\numpy\\lib\\function_base.py:754: ComplexWarning:\n",
      "\n",
      "Casting complex values to real discards the imaginary part\n",
      "\n",
      "C:\\Users\\Miras\\Anaconda3\\lib\\site-packages\\numpy\\lib\\function_base.py:760: ComplexWarning:\n",
      "\n",
      "Casting complex values to real discards the imaginary part\n",
      "\n",
      "C:\\Users\\Miras\\Anaconda3\\lib\\site-packages\\matplotlib\\patches.py:690: ComplexWarning:\n",
      "\n",
      "Casting complex values to real discards the imaginary part\n",
      "\n",
      "C:\\Users\\Miras\\Anaconda3\\lib\\site-packages\\matplotlib\\patches.py:692: ComplexWarning:\n",
      "\n",
      "Casting complex values to real discards the imaginary part\n",
      "\n"
     ]
    },
    {
     "data": {
      "image/png": "[encoded data removed]",
      "text/plain": [
       "<matplotlib.figure.Figure at 0x1c1e8bc9518>"
      ]
     },
     "metadata": {},
     "output_type": "display_data"
    },
    {
     "name": "stdout",
     "output_type": "stream",
     "text": [
      "[ 4. +0.00000000e+00j  1. +0.00000000e+00j  1. +0.00000000e+00j\n",
      "  3. +0.00000000e+00j  4. +0.00000000e+00j  3. +0.00000000e+00j\n",
      "  3. +0.00000000e+00j  1. +0.00000000e+00j  1. +0.00000000e+00j\n",
      "  1. +0.00000000e+00j  3. +0.00000000e+00j  3. +0.00000000e+00j\n",
      "  1. +0.00000000e+00j  1. +0.00000000e+00j  4. +0.00000000e+00j\n",
      "  4. +0.00000000e+00j  3. +0.00000000e+00j  4. +0.00000000e+00j\n",
      "  3. +0.00000000e+00j  4. +0.00000000e+00j  3. +0.00000000e+00j\n",
      "  4. +0.00000000e+00j  1. +0.00000000e+00j  1. +6.38962547e-17j\n",
      "  1. -6.38962547e-17j  1. +0.00000000e+00j  4. +0.00000000e+00j\n",
      "  4. +0.00000000e+00j  4. +0.00000000e+00j  1. +0.00000000e+00j\n",
      "  1. +0.00000000e+00j  1. +0.00000000e+00j  1. +0.00000000e+00j\n",
      "  1. +0.00000000e+00j  1. +0.00000000e+00j  1. +0.00000000e+00j\n",
      "  1. +0.00000000e+00j  1. +0.00000000e+00j  1. +0.00000000e+00j\n",
      "  1. +0.00000000e+00j  1. +0.00000000e+00j  1. +0.00000000e+00j\n",
      "  1. +0.00000000e+00j  1. +0.00000000e+00j  1. +0.00000000e+00j\n",
      "  1. +0.00000000e+00j  1. +0.00000000e+00j  1. +0.00000000e+00j\n",
      "  1. +0.00000000e+00j  1. +0.00000000e+00j]\n"
     ]
    },
    {
     "data": {
      "image/png": "[encoded data removed]",
      "text/plain": [
       "<matplotlib.figure.Figure at 0x1c1e929eef0>"
      ]
     },
     "metadata": {},
     "output_type": "display_data"
    },
    {
     "name": "stdout",
     "output_type": "stream",
     "text": [
      "[ 4.  1.  4.  1.  1.  4.  3.  1.  3.  4.  4.  1.  1.  3.  3.  4.  4.  1.\n",
      "  3.  3.  3.  1.  1.  4.  4.  4.  1.  1.  1.  1.  1.  1.  1.  1.  1.  1.\n",
      "  1.  1.  1.  1.  1.  1.  1.  1.  1.  1.  1.  1.  1.  1.]\n"
     ]
    },
    {
     "data": {
      "image/png": "[encoded data removed]",
      "text/plain": [
       "<matplotlib.figure.Figure at 0x1c1e5eb9e10>"
      ]
     },
     "metadata": {},
     "output_type": "display_data"
    },
    {
     "name": "stdout",
     "output_type": "stream",
     "text": [
      "[ 4.  2.  1.  3.  1.  3.  1.  4.  2.  1.  4.  1.  4.  3.  1.  3.  1.  3.\n",
      "  1.  3.  1.  1.  1.  1.  1.  1.  1.  1.  1.  1.  1.  1.  1.  1.  1.  1.\n",
      "  1.  1.  1.  1.  1.  1.  1.  1.  1.  1.  1.  1.  1.  1.]\n"
     ]
    },
    {
     "data": {
      "image/png": "[encoded data removed]",
      "text/plain": [
       "<matplotlib.figure.Figure at 0x1c1e8712080>"
      ]
     },
     "metadata": {},
     "output_type": "display_data"
    }
   ],
   "source": [
    "import matplotlib.pyplot as plt\n",
    "import os\n",
    "import nltk\n",
    "from nltk.tokenize import word_tokenize, sent_tokenize\n",
    "import collections\n",
    "import math\n",
    "import numpy as np\n",
    "from numpy import linalg as LA\n",
    "import plotly.plotly as py\n",
    "\n",
    "#Initializing variables\n",
    "all_text = \"\"\n",
    "all_words = \"\"\n",
    "mydict = {}\n",
    "all_indexes = {}\n",
    "all_one_hot_vectors = []\n",
    "all_vector = []\n",
    "dicts = []\n",
    "\n",
    "files = os.listdir(\"./dataset\")\n",
    "number_of_datasets = len(files)\n",
    "\n",
    "print (\"number of datasets: \" + str(number_of_datasets))\n",
    "\n",
    "\n",
    "\n",
    "#Get text and words from all datasets\n",
    "cnt = 1\n",
    "while cnt <= number_of_datasets:\n",
    "    path = './dataset/resume' + str(cnt) + '.txt'\n",
    "    file = open(path, 'r').read()\n",
    "    all_text += file\n",
    "    cnt = cnt + 1\n",
    "\n",
    "all_words = word_tokenize(all_text)\n",
    "all_words = set(all_words)\n",
    "all_words = sorted (all_words)\n",
    "\n",
    "cnt = 1\n",
    "for word in all_words:\n",
    "    all_indexes[word] = cnt;\n",
    "    cnt = cnt + 1\n",
    "\n",
    "#Building a dictionary from words from text\n",
    "for word in all_words:\n",
    "    mydict[word] = 0\n",
    "for word in all_words:\n",
    "    mydict[word] += 1\n",
    "\n",
    "    \n",
    "    \n",
    "#Building a list of dictionaries from all files\n",
    "cnt = 1\n",
    "while cnt <= number_of_datasets:\n",
    "    path = './dataset/resume' + str(cnt) + '.txt'\n",
    "    file = open(path, 'r').read()\n",
    "    \n",
    "    all_words_in_file = word_tokenize(file)\n",
    "    all_words_in_file = set(all_words_in_file)\n",
    "    all_words_in_file = sorted(all_words_in_file)\n",
    "    \n",
    "    \n",
    "    # Building one-hot encoding vectors\n",
    "    myvector = []\n",
    "    for word in all_words:\n",
    "        if word in all_words_in_file:\n",
    "            myvector.append(all_indexes[word])\n",
    "        else:\n",
    "            myvector.append(0)\n",
    "        \n",
    "    all_one_hot_vectors.append(myvector)\n",
    "    \n",
    "    cnt = cnt + 1\n",
    "\n",
    "    \n",
    "#Building distance between all vectors\n",
    "\n",
    "def scalar_product(vect1, vect2):\n",
    "    product = 0\n",
    "    for i in range(len(vect1)):\n",
    "        product += (vect1[i] * vect2[i])\n",
    "    \n",
    "    return product;\n",
    "\n",
    "def length_of_vector(vect):\n",
    "    num = 0\n",
    "    for i in range(len(vect)):\n",
    "        num += (vect[i] * vect[i])\n",
    "    return math.sqrt(num)\n",
    "\n",
    "\n",
    "#Counting distances between vectors\n",
    "distances = []\n",
    "for i in range(number_of_datasets):\n",
    "    distances.append([])\n",
    "    \n",
    "for i in range(number_of_datasets):\n",
    "    for j in range(number_of_datasets):\n",
    "        num = 0\n",
    "        p = scalar_product(all_one_hot_vectors[i], all_one_hot_vectors[j])\n",
    "        l1 = length_of_vector(all_one_hot_vectors[i])\n",
    "        l2 = length_of_vector(all_one_hot_vectors[j])\n",
    "        num = p / (l1 * l2)\n",
    "        distances[i].append(round(num, 5))\n",
    "        \n",
    "#Building eigengectors\n",
    "def find(eps):\n",
    "    adj = []\n",
    "    degrees = []\n",
    "    laplace = []\n",
    "    \n",
    "    for i in range(number_of_datasets):\n",
    "        adj.append([])\n",
    "        laplace.append([])\n",
    "\n",
    "    # Building adjacency table\n",
    "    for i in range(number_of_datasets):\n",
    "        for j in range(number_of_datasets):\n",
    "            if (distances[i][j] >= eps):\n",
    "                adj[i].append(1)\n",
    "            else:\n",
    "                adj[i].append(0)\n",
    "    \n",
    "    # Building degree vector\n",
    "    for i in range(number_of_datasets):\n",
    "        degrees.append(0)\n",
    "        for j in range(number_of_datasets):\n",
    "            degrees[i] += adj[i][j]\n",
    "\n",
    "    #Building laplace table\n",
    "    for i in range(number_of_datasets):\n",
    "        for j in range(number_of_datasets):\n",
    "            if (i == j):\n",
    "                laplace[i].append(degrees[i])\n",
    "            elif(adj[i][j] == 1):\n",
    "                laplace[i].append(-1)\n",
    "            else:\n",
    "                laplace[i].append(0)\n",
    "                \n",
    "    y = np.array([np.array(xi) for xi in laplace])\n",
    "    v = LA.eig(y)\n",
    "    print (v[0])\n",
    "    \n",
    "    num_bins = 10\n",
    "    plt.hist(v[0], num_bins, facecolor='blue', alpha=0.5)\n",
    "    plt.show()\n",
    "\n",
    "find (0.3)\n",
    "find (0.5)\n",
    "find (0.7)\n",
    "find (0.9)"
   ]
  },
  {
   "cell_type": "code",
   "execution_count": null,
   "metadata": {
    "collapsed": true
   },
   "outputs": [],
   "source": []
  },
  {
   "cell_type": "code",
   "execution_count": null,
   "metadata": {
    "collapsed": true
   },
   "outputs": [],
   "source": []
  },
  {
   "cell_type": "code",
   "execution_count": null,
   "metadata": {
    "collapsed": true
   },
   "outputs": [],
   "source": []
  }
 ],
 "metadata": {
  "kernelspec": {
   "display_name": "Python 3",
   "language": "python",
   "name": "python3"
  },
  "language_info": {
   "codemirror_mode": {
    "name": "ipython",
    "version": 3
   },
   "file_extension": ".py",
   "mimetype": "text/x-python",
   "name": "python",
   "nbconvert_exporter": "python",
   "pygments_lexer": "ipython3",
   "version": "3.6.1"
  }
 },
 "nbformat": 4,
 "nbformat_minor": 2
}
