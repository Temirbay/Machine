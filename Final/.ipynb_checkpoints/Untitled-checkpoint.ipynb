{
 "cells": [
  {
   "cell_type": "code",
   "execution_count": 55,
   "metadata": {},
   "outputs": [
    {
     "ename": "SyntaxError",
     "evalue": "invalid syntax (<ipython-input-55-c9b74d596fde>, line 57)",
     "output_type": "error",
     "traceback": [
      "\u001b[1;36m  File \u001b[1;32m\"<ipython-input-55-c9b74d596fde>\"\u001b[1;36m, line \u001b[1;32m57\u001b[0m\n\u001b[1;33m    from element in dicts:\u001b[0m\n\u001b[1;37m                  ^\u001b[0m\n\u001b[1;31mSyntaxError\u001b[0m\u001b[1;31m:\u001b[0m invalid syntax\n"
     ]
    }
   ],
   "source": [
    "import os\n",
    "import nltk\n",
    "from nltk.tokenize import word_tokenize, sent_tokenize\n",
    "import collections\n",
    "from sortedcontainers import SortedDict\n",
    " \n",
    "#Initializing variables\n",
    "all_text = \"\"\n",
    "all_words = \"\"\n",
    "mydict = {}\n",
    "dicts = []\n",
    "\n",
    "files = os.listdir(\"./dataset\")\n",
    "number_of_datasets = len(files)\n",
    "\n",
    "print (\"number of datasets: \" + str(number_of_datasets))\n",
    "\n",
    "\n",
    "\n",
    "#Get text and words from all datasets\n",
    "cnt = 1\n",
    "while cnt <= number_of_datasets:\n",
    "    path = './dataset/resume' + str(cnt) + '.txt'\n",
    "    file = open(path, 'r').read()\n",
    "    all_text += file\n",
    "    cnt = cnt + 1\n",
    "\n",
    "all_words = word_tokenize(all_text)\n",
    "all_words = sorted(all_words)\n",
    "\n",
    "\n",
    "#Building a dictionary from words from text\n",
    "for word in all_words:\n",
    "    mydict[word] = 0\n",
    "for word in all_words:\n",
    "    mydict[word] += 1\n",
    "\n",
    "    \n",
    "#Building a list of dictionaries from all files\n",
    "cnt = 1\n",
    "while cnt <= number_of_datasets:\n",
    "    path = './dataset/resume' + str(cnt) + '.txt'\n",
    "    file = open(path, 'r').read()\n",
    "    all_words_in_file = word_tokenize(file)\n",
    "    temp_dicts = {}\n",
    "    \n",
    "    for word in all_words:\n",
    "        temp_dicts[word] = 0\n",
    "    \n",
    "    for word in all_words_in_file:\n",
    "        if word in all_words:\n",
    "            temp_dicts[word] += 1\n",
    "            \n",
    "    dicts.append(temp_dicts)\n",
    "    cnt = cnt + 1\n",
    "\n",
    "for element in dicts:\n",
    "    print (element)\n",
    "\n",
    "    \n",
    "\n",
    "    "
   ]
  },
  {
   "cell_type": "code",
   "execution_count": null,
   "metadata": {
    "collapsed": true
   },
   "outputs": [],
   "source": []
  }
 ],
 "metadata": {
  "kernelspec": {
   "display_name": "Python 3",
   "language": "python",
   "name": "python3"
  },
  "language_info": {
   "codemirror_mode": {
    "name": "ipython",
    "version": 3
   },
   "file_extension": ".py",
   "mimetype": "text/x-python",
   "name": "python",
   "nbconvert_exporter": "python",
   "pygments_lexer": "ipython3",
   "version": "3.6.1"
  }
 },
 "nbformat": 4,
 "nbformat_minor": 2
}
